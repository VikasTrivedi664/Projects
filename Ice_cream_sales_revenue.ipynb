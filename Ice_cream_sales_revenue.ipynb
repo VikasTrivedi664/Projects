{
 "cells": [
  {
   "cell_type": "markdown",
   "metadata": {},
   "source": [
    "# Ice Cream Sales Revenue Dataset 2023"
   ]
  },
  {
   "cell_type": "code",
   "execution_count": 71,
   "metadata": {},
   "outputs": [],
   "source": [
    "# step 1 : import library\n",
    "import pandas as pd"
   ]
  },
  {
   "cell_type": "code",
   "execution_count": 72,
   "metadata": {},
   "outputs": [
    {
     "data": {
      "text/html": [
       "<div>\n",
       "<style scoped>\n",
       "    .dataframe tbody tr th:only-of-type {\n",
       "        vertical-align: middle;\n",
       "    }\n",
       "\n",
       "    .dataframe tbody tr th {\n",
       "        vertical-align: top;\n",
       "    }\n",
       "\n",
       "    .dataframe thead th {\n",
       "        text-align: right;\n",
       "    }\n",
       "</style>\n",
       "<table border=\"1\" class=\"dataframe\">\n",
       "  <thead>\n",
       "    <tr style=\"text-align: right;\">\n",
       "      <th></th>\n",
       "      <th>Temperature</th>\n",
       "      <th>Revenue</th>\n",
       "    </tr>\n",
       "  </thead>\n",
       "  <tbody>\n",
       "    <tr>\n",
       "      <th>0</th>\n",
       "      <td>24.6</td>\n",
       "      <td>535</td>\n",
       "    </tr>\n",
       "    <tr>\n",
       "      <th>1</th>\n",
       "      <td>26.1</td>\n",
       "      <td>626</td>\n",
       "    </tr>\n",
       "    <tr>\n",
       "      <th>2</th>\n",
       "      <td>27.8</td>\n",
       "      <td>661</td>\n",
       "    </tr>\n",
       "    <tr>\n",
       "      <th>3</th>\n",
       "      <td>20.6</td>\n",
       "      <td>488</td>\n",
       "    </tr>\n",
       "    <tr>\n",
       "      <th>4</th>\n",
       "      <td>11.6</td>\n",
       "      <td>317</td>\n",
       "    </tr>\n",
       "  </tbody>\n",
       "</table>\n",
       "</div>"
      ],
      "text/plain": [
       "   Temperature  Revenue\n",
       "0         24.6      535\n",
       "1         26.1      626\n",
       "2         27.8      661\n",
       "3         20.6      488\n",
       "4         11.6      317"
      ]
     },
     "execution_count": 72,
     "metadata": {},
     "output_type": "execute_result"
    }
   ],
   "source": [
    "# step 2 : import data\n",
    "ice_cream = pd.read_csv('Ice Cream.csv')\n",
    "ice_cream.head()"
   ]
  },
  {
   "cell_type": "code",
   "execution_count": 73,
   "metadata": {},
   "outputs": [
    {
     "name": "stdout",
     "output_type": "stream",
     "text": [
      "<class 'pandas.core.frame.DataFrame'>\n",
      "RangeIndex: 500 entries, 0 to 499\n",
      "Data columns (total 2 columns):\n",
      " #   Column       Non-Null Count  Dtype  \n",
      "---  ------       --------------  -----  \n",
      " 0   Temperature  500 non-null    float64\n",
      " 1   Revenue      500 non-null    int64  \n",
      "dtypes: float64(1), int64(1)\n",
      "memory usage: 7.9 KB\n"
     ]
    }
   ],
   "source": [
    "ice_cream.info()"
   ]
  },
  {
   "cell_type": "code",
   "execution_count": 74,
   "metadata": {},
   "outputs": [
    {
     "data": {
      "text/html": [
       "<div>\n",
       "<style scoped>\n",
       "    .dataframe tbody tr th:only-of-type {\n",
       "        vertical-align: middle;\n",
       "    }\n",
       "\n",
       "    .dataframe tbody tr th {\n",
       "        vertical-align: top;\n",
       "    }\n",
       "\n",
       "    .dataframe thead th {\n",
       "        text-align: right;\n",
       "    }\n",
       "</style>\n",
       "<table border=\"1\" class=\"dataframe\">\n",
       "  <thead>\n",
       "    <tr style=\"text-align: right;\">\n",
       "      <th></th>\n",
       "      <th>Temperature</th>\n",
       "      <th>Revenue</th>\n",
       "    </tr>\n",
       "  </thead>\n",
       "  <tbody>\n",
       "    <tr>\n",
       "      <th>count</th>\n",
       "      <td>500.000000</td>\n",
       "      <td>500.000000</td>\n",
       "    </tr>\n",
       "    <tr>\n",
       "      <th>mean</th>\n",
       "      <td>22.281600</td>\n",
       "      <td>522.058000</td>\n",
       "    </tr>\n",
       "    <tr>\n",
       "      <th>std</th>\n",
       "      <td>8.097597</td>\n",
       "      <td>175.410399</td>\n",
       "    </tr>\n",
       "    <tr>\n",
       "      <th>min</th>\n",
       "      <td>0.000000</td>\n",
       "      <td>10.000000</td>\n",
       "    </tr>\n",
       "    <tr>\n",
       "      <th>25%</th>\n",
       "      <td>17.175000</td>\n",
       "      <td>406.000000</td>\n",
       "    </tr>\n",
       "    <tr>\n",
       "      <th>50%</th>\n",
       "      <td>22.400000</td>\n",
       "      <td>530.000000</td>\n",
       "    </tr>\n",
       "    <tr>\n",
       "      <th>75%</th>\n",
       "      <td>27.800000</td>\n",
       "      <td>643.000000</td>\n",
       "    </tr>\n",
       "    <tr>\n",
       "      <th>max</th>\n",
       "      <td>45.000000</td>\n",
       "      <td>1000.000000</td>\n",
       "    </tr>\n",
       "  </tbody>\n",
       "</table>\n",
       "</div>"
      ],
      "text/plain": [
       "       Temperature      Revenue\n",
       "count   500.000000   500.000000\n",
       "mean     22.281600   522.058000\n",
       "std       8.097597   175.410399\n",
       "min       0.000000    10.000000\n",
       "25%      17.175000   406.000000\n",
       "50%      22.400000   530.000000\n",
       "75%      27.800000   643.000000\n",
       "max      45.000000  1000.000000"
      ]
     },
     "execution_count": 74,
     "metadata": {},
     "output_type": "execute_result"
    }
   ],
   "source": [
    "ice_cream.describe()"
   ]
  },
  {
   "cell_type": "code",
   "execution_count": 75,
   "metadata": {},
   "outputs": [],
   "source": [
    "# step 3 : Define target y and  X features \n",
    "X = ice_cream['Temperature'].values.reshape(-1, 1)\n",
    "y = ice_cream['Revenue'].values.reshape(-1, 1)\n"
   ]
  },
  {
   "cell_type": "code",
   "execution_count": 76,
   "metadata": {},
   "outputs": [],
   "source": [
    "# step 4 : train test split the data\n",
    "from sklearn.model_selection import train_test_split\n",
    "X_train,X_test,y_train,y_test = train_test_split(X,y,random_state=2529,test_size=0.7)"
   ]
  },
  {
   "cell_type": "code",
   "execution_count": 77,
   "metadata": {},
   "outputs": [],
   "source": [
    "# step 5 : select the model\n",
    "from sklearn.linear_model import LinearRegression,LogisticRegression\n",
    "# model = LinearRegression()\n",
    "model = LogisticRegression()"
   ]
  },
  {
   "cell_type": "code",
   "execution_count": 78,
   "metadata": {},
   "outputs": [
    {
     "name": "stderr",
     "output_type": "stream",
     "text": [
      "c:\\Users\\Vikas\\AppData\\Local\\Programs\\Python\\Python310\\lib\\site-packages\\sklearn\\utils\\validation.py:1183: DataConversionWarning: A column-vector y was passed when a 1d array was expected. Please change the shape of y to (n_samples, ), for example using ravel().\n",
      "  y = column_or_1d(y, warn=True)\n",
      "c:\\Users\\Vikas\\AppData\\Local\\Programs\\Python\\Python310\\lib\\site-packages\\sklearn\\linear_model\\_logistic.py:460: ConvergenceWarning: lbfgs failed to converge (status=1):\n",
      "STOP: TOTAL NO. of ITERATIONS REACHED LIMIT.\n",
      "\n",
      "Increase the number of iterations (max_iter) or scale the data as shown in:\n",
      "    https://scikit-learn.org/stable/modules/preprocessing.html\n",
      "Please also refer to the documentation for alternative solver options:\n",
      "    https://scikit-learn.org/stable/modules/linear_model.html#logistic-regression\n",
      "  n_iter_i = _check_optimize_result(\n"
     ]
    },
    {
     "data": {
      "text/html": [
       "<style>#sk-container-id-2 {color: black;}#sk-container-id-2 pre{padding: 0;}#sk-container-id-2 div.sk-toggleable {background-color: white;}#sk-container-id-2 label.sk-toggleable__label {cursor: pointer;display: block;width: 100%;margin-bottom: 0;padding: 0.3em;box-sizing: border-box;text-align: center;}#sk-container-id-2 label.sk-toggleable__label-arrow:before {content: \"▸\";float: left;margin-right: 0.25em;color: #696969;}#sk-container-id-2 label.sk-toggleable__label-arrow:hover:before {color: black;}#sk-container-id-2 div.sk-estimator:hover label.sk-toggleable__label-arrow:before {color: black;}#sk-container-id-2 div.sk-toggleable__content {max-height: 0;max-width: 0;overflow: hidden;text-align: left;background-color: #f0f8ff;}#sk-container-id-2 div.sk-toggleable__content pre {margin: 0.2em;color: black;border-radius: 0.25em;background-color: #f0f8ff;}#sk-container-id-2 input.sk-toggleable__control:checked~div.sk-toggleable__content {max-height: 200px;max-width: 100%;overflow: auto;}#sk-container-id-2 input.sk-toggleable__control:checked~label.sk-toggleable__label-arrow:before {content: \"▾\";}#sk-container-id-2 div.sk-estimator input.sk-toggleable__control:checked~label.sk-toggleable__label {background-color: #d4ebff;}#sk-container-id-2 div.sk-label input.sk-toggleable__control:checked~label.sk-toggleable__label {background-color: #d4ebff;}#sk-container-id-2 input.sk-hidden--visually {border: 0;clip: rect(1px 1px 1px 1px);clip: rect(1px, 1px, 1px, 1px);height: 1px;margin: -1px;overflow: hidden;padding: 0;position: absolute;width: 1px;}#sk-container-id-2 div.sk-estimator {font-family: monospace;background-color: #f0f8ff;border: 1px dotted black;border-radius: 0.25em;box-sizing: border-box;margin-bottom: 0.5em;}#sk-container-id-2 div.sk-estimator:hover {background-color: #d4ebff;}#sk-container-id-2 div.sk-parallel-item::after {content: \"\";width: 100%;border-bottom: 1px solid gray;flex-grow: 1;}#sk-container-id-2 div.sk-label:hover label.sk-toggleable__label {background-color: #d4ebff;}#sk-container-id-2 div.sk-serial::before {content: \"\";position: absolute;border-left: 1px solid gray;box-sizing: border-box;top: 0;bottom: 0;left: 50%;z-index: 0;}#sk-container-id-2 div.sk-serial {display: flex;flex-direction: column;align-items: center;background-color: white;padding-right: 0.2em;padding-left: 0.2em;position: relative;}#sk-container-id-2 div.sk-item {position: relative;z-index: 1;}#sk-container-id-2 div.sk-parallel {display: flex;align-items: stretch;justify-content: center;background-color: white;position: relative;}#sk-container-id-2 div.sk-item::before, #sk-container-id-2 div.sk-parallel-item::before {content: \"\";position: absolute;border-left: 1px solid gray;box-sizing: border-box;top: 0;bottom: 0;left: 50%;z-index: -1;}#sk-container-id-2 div.sk-parallel-item {display: flex;flex-direction: column;z-index: 1;position: relative;background-color: white;}#sk-container-id-2 div.sk-parallel-item:first-child::after {align-self: flex-end;width: 50%;}#sk-container-id-2 div.sk-parallel-item:last-child::after {align-self: flex-start;width: 50%;}#sk-container-id-2 div.sk-parallel-item:only-child::after {width: 0;}#sk-container-id-2 div.sk-dashed-wrapped {border: 1px dashed gray;margin: 0 0.4em 0.5em 0.4em;box-sizing: border-box;padding-bottom: 0.4em;background-color: white;}#sk-container-id-2 div.sk-label label {font-family: monospace;font-weight: bold;display: inline-block;line-height: 1.2em;}#sk-container-id-2 div.sk-label-container {text-align: center;}#sk-container-id-2 div.sk-container {/* jupyter's `normalize.less` sets `[hidden] { display: none; }` but bootstrap.min.css set `[hidden] { display: none !important; }` so we also need the `!important` here to be able to override the default hidden behavior on the sphinx rendered scikit-learn.org. See: https://github.com/scikit-learn/scikit-learn/issues/21755 */display: inline-block !important;position: relative;}#sk-container-id-2 div.sk-text-repr-fallback {display: none;}</style><div id=\"sk-container-id-2\" class=\"sk-top-container\"><div class=\"sk-text-repr-fallback\"><pre>LogisticRegression()</pre><b>In a Jupyter environment, please rerun this cell to show the HTML representation or trust the notebook. <br />On GitHub, the HTML representation is unable to render, please try loading this page with nbviewer.org.</b></div><div class=\"sk-container\" hidden><div class=\"sk-item\"><div class=\"sk-estimator sk-toggleable\"><input class=\"sk-toggleable__control sk-hidden--visually\" id=\"sk-estimator-id-2\" type=\"checkbox\" checked><label for=\"sk-estimator-id-2\" class=\"sk-toggleable__label sk-toggleable__label-arrow\">LogisticRegression</label><div class=\"sk-toggleable__content\"><pre>LogisticRegression()</pre></div></div></div></div></div>"
      ],
      "text/plain": [
       "LogisticRegression()"
      ]
     },
     "execution_count": 78,
     "metadata": {},
     "output_type": "execute_result"
    }
   ],
   "source": [
    "# step 6 : train the model\n",
    "model.fit (X_train,y_train)"
   ]
  },
  {
   "cell_type": "code",
   "execution_count": 79,
   "metadata": {},
   "outputs": [
    {
     "data": {
      "text/plain": [
       "array([ 37.43604743,  30.36406386,  25.84845846,  24.76066638,\n",
       "        21.7649908 ,  22.98560588,  19.31012141,  22.7763428 ,\n",
       "        18.39126876,  20.05984862,  36.21948327,  19.87164251,\n",
       "        17.67629835,  14.89828709,  11.90437868,  17.50028502,\n",
       "        13.37708189,  15.760787  ,  17.67629835,  14.72677277,\n",
       "        18.75567085,  15.58759814,  12.88254828,  13.87782997,\n",
       "        14.0462047 ,  13.37708189,  15.760787  ,  13.21161212,\n",
       "        16.80203894,   8.9997124 ,  23.46229367,  10.28573693,\n",
       "         7.5577692 ,   9.32051047,   9.64168907,   9.48104401,\n",
       "         7.39748196,   3.21679719,   7.07683576,   8.03848351,\n",
       "         4.50522702,   6.75605214,   1.44680777,   9.40476065,\n",
       "         2.08998725,   3.21679719,   0.80437352,   4.66623877,\n",
       "         6.11388487,   0.96490349,   8.83443395,   2.2508784 ,\n",
       "         1.44680777,   4.1831521 ,   3.05575933,   6.2086484 ,\n",
       "         0.32312944,  -0.31764619,   3.80880584,  -0.15755268,\n",
       "        -0.63762171,   1.7683148 ,   1.60753924,   0.48348436,\n",
       "         0.80446064,   2.90253797,  -4.9241318 ,  -3.02727554,\n",
       "        -0.79750033,  -5.39605677,  -1.59573868,  -6.02379784,\n",
       "        -0.78519455,  -3.66113816,  -3.50281613,  -4.45126878,\n",
       "        -3.02727554,  -3.02727554,  -0.12226862,  -3.66113816,\n",
       "        -4.29344295,  -5.08154535, -10.67484041,  -8.51516642,\n",
       "        -5.55315325,  -2.23285653,  -7.11813401,  -6.96213344,\n",
       "        -9.75279662,  -6.96213344,  -5.39605677,  -5.84545382,\n",
       "        -8.05177053,  -7.45853164,  -7.72568818,  -6.64979734,\n",
       "        -8.82667551,  -9.5987277 ,  -9.75279662, -10.3679415 ,\n",
       "       -11.13435733, -12.81099968, -11.74552015, -10.0605946 ,\n",
       "       -15.48737625,  -8.20697962, -13.72038383, -12.50708973,\n",
       "       -16.13511521,  -8.51705583, -10.67484041, -12.65909494,\n",
       "        -8.51705583, -14.77718339, -15.67982408, -13.26612245,\n",
       "       -15.0783713 , -18.07536409, -18.07536409, -17.02909554,\n",
       "       -16.13015942, -17.92603995, -19.71546673, -18.52308609,\n",
       "       -18.37388543, -21.64981989, -22.54189599, -22.39323021,\n",
       "       -22.09588484, -26.40784032, -26.55653928, -24.77192546,\n",
       "       -26.55653928])"
      ]
     },
     "execution_count": 79,
     "metadata": {},
     "output_type": "execute_result"
    }
   ],
   "source": [
    "model.intercept_"
   ]
  },
  {
   "cell_type": "code",
   "execution_count": 80,
   "metadata": {},
   "outputs": [
    {
     "data": {
      "text/plain": [
       "array([[-3.7848057 ],\n",
       "       [-2.44270167],\n",
       "       [-1.81874591],\n",
       "       [-1.68117625],\n",
       "       [-1.37155587],\n",
       "       [-1.49320608],\n",
       "       [-1.11629217],\n",
       "       [-1.47229957],\n",
       "       [-1.04493821],\n",
       "       [-1.18229775],\n",
       "       [-3.15648873],\n",
       "       [-1.16465794],\n",
       "       [-0.97802294],\n",
       "       [-0.72845315],\n",
       "       [-0.50856319],\n",
       "       [-0.95630247],\n",
       "       [-0.6187524 ],\n",
       "       [-0.80262284],\n",
       "       [-0.97802294],\n",
       "       [-0.71611789],\n",
       "       [-1.07302959],\n",
       "       [-0.78769755],\n",
       "       [-0.58293251],\n",
       "       [-0.65499815],\n",
       "       [-0.66767242],\n",
       "       [-0.6187524 ],\n",
       "       [-0.80262284],\n",
       "       [-0.60688562],\n",
       "       [-0.88994057],\n",
       "       [-0.32936734],\n",
       "       [-1.42588703],\n",
       "       [-0.41603238],\n",
       "       [-0.24875562],\n",
       "       [-0.35041819],\n",
       "       [-0.37264173],\n",
       "       [-0.36138197],\n",
       "       [-0.24029609],\n",
       "       [-0.01754662],\n",
       "       [-0.22266482],\n",
       "       [-0.27346938],\n",
       "       [-0.08257252],\n",
       "       [-0.2044248 ],\n",
       "       [ 0.06825973],\n",
       "       [-0.30228543],\n",
       "       [ 0.03748743],\n",
       "       [-0.01754662],\n",
       "       [ 0.09858801],\n",
       "       [-0.09087454],\n",
       "       [-0.16810259],\n",
       "       [ 0.09104659],\n",
       "       [-0.26982689],\n",
       "       [ 0.02972149],\n",
       "       [ 0.06825973],\n",
       "       [-0.06608897],\n",
       "       [-0.00958412],\n",
       "       [-0.12822447],\n",
       "       [ 0.12105087],\n",
       "       [ 0.15062474],\n",
       "       [-0.00770254],\n",
       "       [ 0.14327167],\n",
       "       [ 0.16525009],\n",
       "       [ 0.05293065],\n",
       "       [ 0.0606092 ],\n",
       "       [ 0.11359013],\n",
       "       [ 0.13403881],\n",
       "       [ 0.03598569],\n",
       "       [ 0.35251919],\n",
       "       [ 0.27156561],\n",
       "       [ 0.17252243],\n",
       "       [ 0.37221473],\n",
       "       [ 0.20848339],\n",
       "       [ 0.39814641],\n",
       "       [ 0.20667254],\n",
       "       [ 0.29894245],\n",
       "       [ 0.29213554],\n",
       "       [ 0.33260932],\n",
       "       [ 0.27156561],\n",
       "       [ 0.27156561],\n",
       "       [ 0.17584882],\n",
       "       [ 0.29894245],\n",
       "       [ 0.32592461],\n",
       "       [ 0.35910806],\n",
       "       [ 0.58112165],\n",
       "       [ 0.5239639 ],\n",
       "       [ 0.37873272],\n",
       "       [ 0.2367776 ],\n",
       "       [ 0.44263742],\n",
       "       [ 0.43635008],\n",
       "       [ 0.54610973],\n",
       "       [ 0.43635008],\n",
       "       [ 0.37221473],\n",
       "       [ 0.43355524],\n",
       "       [ 0.47988839],\n",
       "       [ 0.48256982],\n",
       "       [ 0.49429194],\n",
       "       [ 0.42370717],\n",
       "       [ 0.51031831],\n",
       "       [ 0.54019894],\n",
       "       [ 0.54610973],\n",
       "       [ 0.56953689],\n",
       "       [ 0.59833922],\n",
       "       [ 0.65986745],\n",
       "       [ 0.62100135],\n",
       "       [ 0.5578664 ],\n",
       "       [ 0.77840499],\n",
       "       [ 0.48601865],\n",
       "       [ 0.69240532],\n",
       "       [ 0.64886409],\n",
       "       [ 0.78900855],\n",
       "       [ 0.49821263],\n",
       "       [ 0.58112165],\n",
       "       [ 0.65437577],\n",
       "       [ 0.49821263],\n",
       "       [ 0.72950455],\n",
       "       [ 0.76059817],\n",
       "       [ 0.67622386],\n",
       "       [ 0.73994036],\n",
       "       [ 0.84031308],\n",
       "       [ 0.84031308],\n",
       "       [ 0.80602998],\n",
       "       [ 0.77590467],\n",
       "       [ 0.8354769 ],\n",
       "       [ 0.89202164],\n",
       "       [ 0.85468442],\n",
       "       [ 0.84991763],\n",
       "       [ 0.95346578],\n",
       "       [ 0.98190743],\n",
       "       [ 0.97720579],\n",
       "       [ 0.96776721],\n",
       "       [ 1.09532933],\n",
       "       [ 1.10176712],\n",
       "       [ 1.04849724],\n",
       "       [ 1.10176712]])"
      ]
     },
     "execution_count": 80,
     "metadata": {},
     "output_type": "execute_result"
    }
   ],
   "source": [
    "model.coef_"
   ]
  },
  {
   "cell_type": "code",
   "execution_count": 81,
   "metadata": {},
   "outputs": [],
   "source": [
    "# step 7 : predict the model\n",
    "y_pred = model.predict(X_test)"
   ]
  },
  {
   "cell_type": "code",
   "execution_count": 82,
   "metadata": {},
   "outputs": [
    {
     "data": {
      "text/plain": [
       "array([644, 426, 243, 336, 426, 336, 426, 644, 644, 644, 595, 595, 426,\n",
       "       336, 243, 494, 595, 595, 521, 857, 336, 451, 451, 857, 595, 336,\n",
       "       644, 258, 521, 478, 644, 857, 595, 595, 426, 426, 426, 644, 857,\n",
       "       595, 857, 644, 494, 426, 595, 857, 451, 857, 644, 522, 426, 494,\n",
       "       494, 595, 644, 478, 644, 644, 426, 644, 521, 258, 426, 243, 426,\n",
       "       644, 451, 426, 644, 857, 595, 426, 644, 426, 336, 478, 595, 243,\n",
       "       595, 644, 644, 595, 478, 857, 644, 857, 595, 857, 426, 451, 595,\n",
       "       644, 595, 243, 595, 595, 595, 494, 478, 595, 521, 336, 644, 494,\n",
       "        10, 426, 595, 478, 595, 595, 644, 522, 426, 644, 451, 258, 478,\n",
       "       426, 478, 595, 538, 336, 644, 644, 426, 644, 644, 538, 258, 595,\n",
       "       857, 595, 644, 644, 478, 595, 595, 595, 478, 451, 595, 521, 595,\n",
       "       494, 451, 644, 426, 478, 426, 336, 644, 538, 857, 258, 644, 478,\n",
       "       426, 258, 595, 857, 644, 336, 478, 478, 478, 644, 243, 521, 426,\n",
       "       336, 522, 426, 478, 521, 426, 595, 595, 595, 336, 595, 857, 538,\n",
       "       595, 595, 478, 595, 644, 644, 595, 494, 595, 595, 595, 644, 478,\n",
       "       857, 478, 595, 522, 336, 595, 426, 644, 644, 538, 644, 478, 538,\n",
       "       243, 644, 595, 478, 595, 595, 243, 478, 478, 595, 595, 494, 595,\n",
       "       595, 336, 595, 644, 478, 538, 595, 478, 857, 426, 336, 595, 478,\n",
       "       644, 644, 426, 595, 595, 426, 595, 595, 478, 644, 644, 426, 521,\n",
       "       644, 538, 857, 644, 478, 595, 522, 478, 644, 451, 426, 426, 426,\n",
       "       426, 857, 595, 644, 644, 451, 857, 857, 451, 644, 521, 595, 857,\n",
       "       595, 857, 494, 258, 595, 336, 595,  10, 644, 451, 595, 644, 595,\n",
       "       644, 644, 522, 451, 595, 243, 336, 336, 644, 521, 336, 243, 644,\n",
       "       494, 336, 644, 336, 595, 644, 426, 644, 644, 595, 595, 336, 595,\n",
       "       644, 595, 426, 595, 595, 426, 644, 451, 538, 478, 644, 857, 644,\n",
       "       595, 595, 595, 595, 644, 426, 644, 857, 336, 595, 595, 426, 857,\n",
       "       595, 426, 426, 595, 521, 426, 451, 595, 595, 426, 258, 426],\n",
       "      dtype=int64)"
      ]
     },
     "execution_count": 82,
     "metadata": {},
     "output_type": "execute_result"
    }
   ],
   "source": [
    "y_pred"
   ]
  },
  {
   "cell_type": "code",
   "execution_count": 83,
   "metadata": {},
   "outputs": [
    {
     "data": {
      "text/plain": [
       "0.017142857142857144"
      ]
     },
     "execution_count": 83,
     "metadata": {},
     "output_type": "execute_result"
    }
   ],
   "source": [
    "# Model accuracy\n",
    "from sklearn.metrics import accuracy_score,mean_absolute_error,mean_absolute_percentage_error,mean_squared_error\n",
    "accuracy_score(y_test,y_pred)"
   ]
  },
  {
   "cell_type": "code",
   "execution_count": 84,
   "metadata": {},
   "outputs": [
    {
     "data": {
      "text/plain": [
       "0.10956537743413995"
      ]
     },
     "execution_count": 84,
     "metadata": {},
     "output_type": "execute_result"
    }
   ],
   "source": [
    "mean_absolute_percentage_error(y_test,y_pred)"
   ]
  },
  {
   "cell_type": "code",
   "execution_count": 86,
   "metadata": {},
   "outputs": [
    {
     "data": {
      "text/plain": [
       "array([494], dtype=int64)"
      ]
     },
     "execution_count": 86,
     "metadata": {},
     "output_type": "execute_result"
    }
   ],
   "source": [
    "model.predict([[20]])"
   ]
  }
 ],
 "metadata": {
  "kernelspec": {
   "display_name": "Python 3",
   "language": "python",
   "name": "python3"
  },
  "language_info": {
   "codemirror_mode": {
    "name": "ipython",
    "version": 3
   },
   "file_extension": ".py",
   "mimetype": "text/x-python",
   "name": "python",
   "nbconvert_exporter": "python",
   "pygments_lexer": "ipython3",
   "version": "3.10.0"
  }
 },
 "nbformat": 4,
 "nbformat_minor": 2
}
